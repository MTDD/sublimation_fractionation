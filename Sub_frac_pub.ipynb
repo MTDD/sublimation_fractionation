{
 "cells": [
  {
   "cell_type": "markdown",
   "metadata": {},
   "source": [
    "# Scripts for analysis performed in 'Enrichment of surface ice stable water isotope ratios following sublimation'"
   ]
  },
  {
   "cell_type": "markdown",
   "metadata": {},
   "source": [
    "These are the calculations for our manuscript on sublimation. We are excited to share our work with you.\n",
    "\n",
    "-Donovan and Shivani"
   ]
  },
  {
   "cell_type": "markdown",
   "metadata": {},
   "source": [
    "Here we set the working directory and install/import some of the necessary packages for our analysis. Setting the working directory tells the program where to find the data source files. The installed packages are the tools and functions that we will use to unpack and assess our data."
   ]
  },
  {
   "cell_type": "code",
   "execution_count": 1,
   "metadata": {},
   "outputs": [
    {
     "name": "stderr",
     "output_type": "stream",
     "text": [
      "Warning message:\n",
      "\"package 'ggplot2' was built under R version 3.3.2\""
     ]
    }
   ],
   "source": [
    "library(ggplot2)"
   ]
  },
  {
   "cell_type": "markdown",
   "metadata": {},
   "source": [
    "Now we import the data we would like to share regarding our standards freezing experiment. These cores have not been subjected to sublimation. "
   ]
  },
  {
   "cell_type": "code",
   "execution_count": 14,
   "metadata": {
    "scrolled": true
   },
   "outputs": [
    {
     "data": {
      "text/html": [
       "<table>\n",
       "<thead><tr><th scope=col>sample</th><th scope=col>edge</th><th scope=col>core</th><th scope=col>pre_post</th><th scope=col>seds</th><th scope=col>salt</th><th scope=col>mass_diff</th><th scope=col>depth</th><th scope=col>d18O</th><th scope=col>dD</th><th scope=col>d_xs</th></tr></thead>\n",
       "<tbody>\n",
       "\t<tr><td>A1       </td><td>N        </td><td>2-A      </td><td>pre      </td><td>NA       </td><td>NA       </td><td>NA       </td><td> -2.00   </td><td>-13.07398</td><td>-86.97208</td><td>17.61976 </td></tr>\n",
       "\t<tr><td>A2       </td><td>N        </td><td>2-A      </td><td>pre      </td><td>NA       </td><td>NA       </td><td>NA       </td><td> -4.00   </td><td>-13.16119</td><td>-87.60967</td><td>17.67985 </td></tr>\n",
       "\t<tr><td>A3       </td><td>N        </td><td>2-A      </td><td>pre      </td><td>NA       </td><td>NA       </td><td>NA       </td><td> -6.00   </td><td>-12.79770</td><td>-85.23496</td><td>17.14664 </td></tr>\n",
       "\t<tr><td>A4       </td><td>N        </td><td>2-A      </td><td>pre      </td><td>NA       </td><td>NA       </td><td>NA       </td><td> -7.25   </td><td>-12.70683</td><td>-84.47480</td><td>17.17984 </td></tr>\n",
       "\t<tr><td>A5       </td><td>N        </td><td>2-A      </td><td>pre      </td><td>NA       </td><td>NA       </td><td>NA       </td><td> -9.50   </td><td>-12.50877</td><td>-83.15384</td><td>16.91632 </td></tr>\n",
       "\t<tr><td>A6       </td><td>N        </td><td>2-A      </td><td>pre      </td><td>NA       </td><td>NA       </td><td>NA       </td><td>-10.50   </td><td>-12.58001</td><td>-83.66061</td><td>16.97947 </td></tr>\n",
       "</tbody>\n",
       "</table>\n"
      ],
      "text/latex": [
       "\\begin{tabular}{r|lllllllllll}\n",
       " sample & edge & core & pre\\_post & seds & salt & mass\\_diff & depth & d18O & dD & d\\_xs\\\\\n",
       "\\hline\n",
       "\t A1        & N         & 2-A       & pre       & NA        & NA        & NA        &  -2.00    & -13.07398 & -86.97208 & 17.61976 \\\\\n",
       "\t A2        & N         & 2-A       & pre       & NA        & NA        & NA        &  -4.00    & -13.16119 & -87.60967 & 17.67985 \\\\\n",
       "\t A3        & N         & 2-A       & pre       & NA        & NA        & NA        &  -6.00    & -12.79770 & -85.23496 & 17.14664 \\\\\n",
       "\t A4        & N         & 2-A       & pre       & NA        & NA        & NA        &  -7.25    & -12.70683 & -84.47480 & 17.17984 \\\\\n",
       "\t A5        & N         & 2-A       & pre       & NA        & NA        & NA        &  -9.50    & -12.50877 & -83.15384 & 16.91632 \\\\\n",
       "\t A6        & N         & 2-A       & pre       & NA        & NA        & NA        & -10.50    & -12.58001 & -83.66061 & 16.97947 \\\\\n",
       "\\end{tabular}\n"
      ],
      "text/markdown": [
       "\n",
       "sample | edge | core | pre_post | seds | salt | mass_diff | depth | d18O | dD | d_xs | \n",
       "|---|---|---|---|---|---|\n",
       "| A1        | N         | 2-A       | pre       | NA        | NA        | NA        |  -2.00    | -13.07398 | -86.97208 | 17.61976  | \n",
       "| A2        | N         | 2-A       | pre       | NA        | NA        | NA        |  -4.00    | -13.16119 | -87.60967 | 17.67985  | \n",
       "| A3        | N         | 2-A       | pre       | NA        | NA        | NA        |  -6.00    | -12.79770 | -85.23496 | 17.14664  | \n",
       "| A4        | N         | 2-A       | pre       | NA        | NA        | NA        |  -7.25    | -12.70683 | -84.47480 | 17.17984  | \n",
       "| A5        | N         | 2-A       | pre       | NA        | NA        | NA        |  -9.50    | -12.50877 | -83.15384 | 16.91632  | \n",
       "| A6        | N         | 2-A       | pre       | NA        | NA        | NA        | -10.50    | -12.58001 | -83.66061 | 16.97947  | \n",
       "\n",
       "\n"
      ],
      "text/plain": [
       "  sample edge core pre_post seds salt mass_diff depth  d18O      dD       \n",
       "1 A1     N    2-A  pre      NA   NA   NA         -2.00 -13.07398 -86.97208\n",
       "2 A2     N    2-A  pre      NA   NA   NA         -4.00 -13.16119 -87.60967\n",
       "3 A3     N    2-A  pre      NA   NA   NA         -6.00 -12.79770 -85.23496\n",
       "4 A4     N    2-A  pre      NA   NA   NA         -7.25 -12.70683 -84.47480\n",
       "5 A5     N    2-A  pre      NA   NA   NA         -9.50 -12.50877 -83.15384\n",
       "6 A6     N    2-A  pre      NA   NA   NA        -10.50 -12.58001 -83.66061\n",
       "  d_xs    \n",
       "1 17.61976\n",
       "2 17.67985\n",
       "3 17.14664\n",
       "4 17.17984\n",
       "5 16.91632\n",
       "6 16.97947"
      ]
     },
     "metadata": {},
     "output_type": "display_data"
    }
   ],
   "source": [
    "import = read.table(\"1.1_standards_freeze.txt\",colClasses = c(\"factor\",\"factor\",\"factor\",\"factor\",\"factor\",\"factor\",\"numeric\",\"numeric\",\"numeric\",\"numeric\",\"numeric\"),header=TRUE)\n",
    "head(import) # This just lets us make sure the data has imported correctly.\n",
    "no_bulk = subset(import,core != \"BULK\") # BULK is our code for the bulk water. We don't want to plot that on our depth profiles so we remove it here."
   ]
  },
  {
   "cell_type": "markdown",
   "metadata": {},
   "source": [
    "Here we plot this initial data. This is the exact plot you see in our paper! We have relabeled the ice columns (see the note in the code) from their original names to make the first number numbers correspond to the experimental runs, rather than the individual column. So column 2-1 translates to column 1 of experiment 2; column 2-2 translates to column 2 of experiment 2; etc."
   ]
  },
  {
   "cell_type": "code",
   "execution_count": 21,
   "metadata": {},
   "outputs": [
    {
     "data": {},
     "metadata": {},
     "output_type": "display_data"
    },
    {
     "data": {
      "image/png": "[encoded data removed]",
      "text/plain": [
       "plot without title"
      ]
     },
     "metadata": {},
     "output_type": "display_data"
    }
   ],
   "source": [
    "dD.depth = ggplot(no_bulk,aes(x=dD, y = depth, color = core,shape = edge)) + \n",
    "  geom_point(data = , size = 1) +\n",
    "  labs(x = expression(paste(delta,\"D (\\u2030)\")),\n",
    "       y = \"Depth (cm)\") +\n",
    "  geom_path(data = no_bulk,aes(color=core),size = 0.25) +\n",
    "  theme(panel.grid.major = element_blank(), panel.grid.minor = element_blank(),\n",
    "        panel.background = element_blank(), axis.line = element_line(colour = \"black\"),\n",
    "        plot.title = element_text(hjust = 0.5),text = element_text(size=10),\n",
    "        legend.position = \"right\",legend.spacing = unit(0,\"in\"),\n",
    "        legend.text = element_text(size = 8),\n",
    "        legend.title = element_text(size = 9)) +\n",
    "  coord_fixed(ratio = 2.25) +\n",
    "  scale_shape_manual(name = \"Column Edge\",\n",
    "                     values = c(16,15),\n",
    "                     labels = c(\"No\",\"Yes\")) +\n",
    "  scale_colour_manual(name  = \"Ice Column\",\n",
    "                      breaks = c(\"2-A\",\"2-B\",\"3-A\"),\n",
    "                      labels = c(\"2-1A\",\"2-1B\",\"2-2A\"),\n",
    "                      values = c(\"dodgerblue4\",\"dodgerblue\",\"skyblue\")) +\n",
    "  scale_x_continuous(limits = c(-90,-50),breaks= c(-90,-85,-80,-75,-70,-65,-60,-55,-50)) +\n",
    "  scale_y_continuous(limits = c(-30,0),breaks= c(0,-5,-10,-15,-20,-25,-30))\n",
    "\n",
    "dD.depth"
   ]
  }
 ],
 "metadata": {
  "kernelspec": {
   "display_name": "R",
   "language": "R",
   "name": "ir"
  },
  "language_info": {
   "codemirror_mode": "r",
   "file_extension": ".r",
   "mimetype": "text/x-r-source",
   "name": "R",
   "pygments_lexer": "r",
   "version": "3.3.1"
  }
 },
 "nbformat": 4,
 "nbformat_minor": 2
}
