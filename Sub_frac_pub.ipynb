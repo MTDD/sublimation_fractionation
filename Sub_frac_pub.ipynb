{
 "cells": [
  {
   "cell_type": "markdown",
   "metadata": {},
   "source": [
    "# Scripts for analysis performed in 'Enrichment of surface ice stable water isotope ratios following sublimation'"
   ]
  },
  {
   "cell_type": "markdown",
   "metadata": {},
   "source": [
    "These are the calculations and plots for our manuscript on sublimation. We are excited to share our work with you."
   ]
  },
  {
   "cell_type": "markdown",
   "metadata": {},
   "source": [
    "First, we need to install some useful tools."
   ]
  },
  {
   "cell_type": "code",
   "execution_count": null,
   "metadata": {},
   "outputs": [],
   "source": [
    "library(ggplot2)"
   ]
  },
  {
   "cell_type": "markdown",
   "metadata": {},
   "source": [
    "Now we import the data we would like to share regarding our standards freezing experiment. These cores have not been subjected to sublimation. "
   ]
  },
  {
   "cell_type": "code",
   "execution_count": null,
   "metadata": {
    "scrolled": true
   },
   "outputs": [],
   "source": [
    "import = read.table(\"1.1_standards_freeze.txt\",colClasses = c(\"factor\",\"factor\",\"factor\",\"factor\",\"factor\",\"factor\",\"numeric\",\"numeric\",\"numeric\",\"numeric\",\"numeric\"),header=TRUE)\n",
    "head(import) \n",
    "\n",
    "# BULK is our code for the bulk water measured before freezing. We don't want to plot that on our depth profiles so we remove it here.\n",
    "no_bulk = subset(import,core != \"BULK\") "
   ]
  },
  {
   "cell_type": "markdown",
   "metadata": {},
   "source": [
    "A few notes before we get going with the analysis:\n",
    "\n",
    "1. Data points that are plotted as blue points indicate that the column has __not__ been subjected to sublimation. Points plotted red indicate columns that __have__ been subjected to sublimation.\n",
    "2. We have re-labeled the ice columns (see the note in the code) from their original column ID number in order to avoid some confusion. The new labels correspond to the experimental run that the core was generated as a part of, rather than the individual column. So column 2-1 translates to column 1 of experiment 2; column 2-2 translates to column 2 of experiment 2; etc.\n",
    "3. Letters indicate which part of the column was sampled. For example, 2-1A corresponds to experiment 2, column 1, side A."
   ]
  },
  {
   "cell_type": "code",
   "execution_count": null,
   "metadata": {},
   "outputs": [],
   "source": [
    "dD.depth = ggplot(no_bulk,aes(x=dD, y = depth, color = core,shape = edge)) + \n",
    "  geom_point(data = , size = 1) +\n",
    "  labs(x = expression(paste(delta,\"D (\\u2030)\")),\n",
    "       y = \"Depth (cm)\") +\n",
    "  geom_path(data = no_bulk,aes(color=core),size = 0.25) +\n",
    "  theme(panel.grid.major = element_blank(), panel.grid.minor = element_blank(),\n",
    "        panel.background = element_blank(), axis.line = element_line(colour = \"black\"),\n",
    "        plot.title = element_text(hjust = 0.5),text = element_text(size=10),\n",
    "        legend.position = \"right\",legend.spacing = unit(0,\"in\"),\n",
    "        legend.text = element_text(size = 8),\n",
    "        legend.title = element_text(size = 9)) +\n",
    "  coord_fixed(ratio = 2.25) +\n",
    "  scale_shape_manual(name = \"Column Edge\",\n",
    "                     values = c(16,15),\n",
    "                     labels = c(\"No\",\"Yes\")) +\n",
    "  scale_colour_manual(name  = \"Ice Column\",\n",
    "                      breaks = c(\"2-A\",\"2-B\",\"3-A\"),\n",
    "                      labels = c(\"2-1A\",\"2-1B\",\"2-2A\"), # renaming the ice column names\n",
    "                      values = c(\"dodgerblue4\",\"dodgerblue\",\"skyblue\")) +\n",
    "  scale_x_continuous(limits = c(-90,-50),breaks= c(-90,-85,-80,-75,-70,-65,-60,-55,-50)) +\n",
    "  scale_y_continuous(limits = c(-30,0),breaks= c(0,-5,-10,-15,-20,-25,-30))\n",
    "\n",
    "dD.depth"
   ]
  },
  {
   "cell_type": "markdown",
   "metadata": {},
   "source": [
    "This is the exact plot you see in our paper! This figure shows the relationship between $\\delta$D and Depth in our first columns, which were not subjected to sublimation. First of all, the edges are considerably enriched compared to the interior of the columns. We also see a trend towards enrichment towards the bottom of the ice column, which reflects the freezing pattern of the ice. The edges froze first and then the bottom. We reproduce the plot for $\\delta^{18}$O below as well."
   ]
  },
  {
   "cell_type": "code",
   "execution_count": null,
   "metadata": {},
   "outputs": [],
   "source": [
    "d18O.depth = ggplot(no_bulk,aes(x=d18O, y = depth, color = core,shape = edge)) + \n",
    "  geom_point(data = , size = 1) +\n",
    "  labs(x = expression(paste(delta,\"18O \\u2030)\")),\n",
    "       y = \"Depth (cm)\") +\n",
    "  geom_path(data = no_bulk,aes(color=core),size = 0.25) +\n",
    "  theme(panel.grid.major = element_blank(), panel.grid.minor = element_blank(),\n",
    "        panel.background = element_blank(), axis.line = element_line(colour = \"black\"),\n",
    "        plot.title = element_text(hjust = 0.5),text = element_text(size=10),\n",
    "        legend.position = \"right\",legend.spacing = unit(0,\"in\"),\n",
    "        legend.text = element_text(size = 9),\n",
    "        legend.title = element_text(size = 10)) +\n",
    "  scale_shape_manual(name = \"Column Edge\",\n",
    "                     values = c(16,15),\n",
    "                     labels = c(\"No\",\"Yes\")) +\n",
    "  scale_colour_manual(name  = \"Ice Column\",\n",
    "                      breaks = c(\"2-A\",\"2-B\",\"3-A\"),\n",
    "                      labels = c(\"2-1A\",\"2-1B\",\"2-2A\"),\n",
    "                      values = c(\"dodgerblue4\",\"dodgerblue\",\"skyblue\")) +\n",
    "  scale_x_continuous(limits = c(-15,-7),breaks= c(-15,-13,-11,-9,-7)) +\n",
    "  scale_y_continuous(limits = c(-30,0),breaks= c(0,-5,-10,-15,-20,-25,-30))\n",
    "\n",
    "d18O.depth"
   ]
  },
  {
   "cell_type": "markdown",
   "metadata": {},
   "source": [
    "Finally, here is the plot for Deuterium excess (_d_) with depth. Recall from the Theoretical Introduction that D-excess is calculated as:\n",
    "\n",
    "\\begin{equation}\n",
    "    \\textrm{D-excess}\\;(d) = \\delta\\textrm{D} - 8 * \\delta^{18}\\textrm{O}.\n",
    "\\end{equation}"
   ]
  },
  {
   "cell_type": "code",
   "execution_count": null,
   "metadata": {},
   "outputs": [],
   "source": [
    "D_excess = ggplot(no_bulk,aes(x=d_xs, y = depth, color = core,shape = edge)) + \n",
    "  geom_point(data = , size = 1) +\n",
    "  labs(x = \"d\",\n",
    "       y = \"Depth (cm)\") +\n",
    "  geom_path(data = no_bulk,aes(color=core),size = 0.25) +\n",
    "  theme(panel.grid.major = element_blank(), panel.grid.minor = element_blank(),\n",
    "        panel.background = element_blank(), axis.line = element_line(colour = \"black\"),\n",
    "        plot.title = element_text(hjust = 0.5),text = element_text(size=10),\n",
    "        legend.position = \"right\",legend.spacing = unit(0,\"in\"),\n",
    "        legend.text = element_text(size = 8),\n",
    "        legend.title = element_text(size = 9)) +\n",
    "  coord_fixed(ratio = 1) +\n",
    "  scale_shape_manual(name = \"Column Edge\",\n",
    "                     values = c(16,15),\n",
    "                     labels = c(\"No\",\"Yes\")) +\n",
    "  scale_colour_manual(name  = \"Ice Column\",\n",
    "                      breaks = c(\"2-A\",\"2-B\",\"3-A\"),\n",
    "                      labels = c(\"2-1A\",\"2-1B\",\"2-2A\"),\n",
    "                      values = c(\"dodgerblue4\",\"dodgerblue\",\"skyblue\")) +\n",
    "  scale_x_continuous(limits = c(9,18),breaks= c(9,11,13,15,17)) +\n",
    "  scale_y_continuous(limits = c(-30,0),breaks= c(0,-5,-10,-15,-20,-25,-30))\n",
    "\n",
    "D_excess"
   ]
  }
 ],
 "metadata": {
  "kernelspec": {
   "display_name": "R",
   "language": "R",
   "name": "ir"
  },
  "language_info": {
   "codemirror_mode": "r",
   "file_extension": ".r",
   "mimetype": "text/x-r-source",
   "name": "R",
   "pygments_lexer": "r",
   "version": "3.3.1"
  }
 },
 "nbformat": 4,
 "nbformat_minor": 2
}
