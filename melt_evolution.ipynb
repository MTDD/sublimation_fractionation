{
 "cells": [
  {
   "cell_type": "markdown",
   "metadata": {},
   "source": [
    "This is where we set up our code. We are telling it which packages to import and what to call them by."
   ]
  },
  {
   "cell_type": "code",
   "execution_count": null,
   "metadata": {},
   "outputs": [],
   "source": [
    "from ipywidgets import interact, interactive, fixed, interact_manual, ToggleButtons\n",
    "import ipywidgets as widgets\n",
    "import numpy as np\n",
    "from IPython.display import display\n",
    "import matplotlib.pyplot as plt\n",
    "from tkinter import *\n",
    "from tkinter.ttk import *"
   ]
  },
  {
   "cell_type": "markdown",
   "metadata": {},
   "source": [
    "Our first cell below is a pop-up box that describes the initial conditions for our system. You will be able to explore the effect of these changing values later, but first we are setting up this rigid interface with our initial conditions.\n",
    "\n",
    "You will input your name (so we know what to call you), and then we will ask you to select some initial values for the fractioantion factor and the $\\delta$ 18O for the water that we used. Be sure to close the window when you're done or it won't run the code later down."
   ]
  },
  {
   "cell_type": "code",
   "execution_count": null,
   "metadata": {},
   "outputs": [],
   "source": [
    "window = Tk()\n",
    "window.title(\"Ice core sublimation Python module.\")\n",
    "name = StringVar()\n",
    "alpha = DoubleVar()\n",
    "del_18O = DoubleVar()\n",
    "\n",
    "def clickedname():\n",
    "    print (\"Welcome to our simulator,\",name.get(),\"!\")\n",
    "def clickedalpha():\n",
    "    print (\"You have selected\", alpha.get(), \"as your fractionation factor.\")\n",
    "def clickeddeloxygen():\n",
    "    print (\"You have selected\",del_18O.get(),\"as your initial bulk water \\u03B418-O value.\")\n",
    "    \n",
    "name_entry = Entry(window,textvariable = name)\n",
    "name_label = Label(window, text = \"Please enter your name.\")\n",
    "name_button = Button(window, text = \"Confirm Name\",command = clickedname)\n",
    "\n",
    "name_label.pack(pady = 10)\n",
    "name_entry.pack()\n",
    "name_button.pack(pady = 10)\n",
    "\n",
    "label_del18 = Label(window, text = \"Please select a Bulk Water \\u03B418-O Value\")\n",
    "\n",
    "del18_rad_1 = Radiobutton(window, text = '-9.5949',value = -9.5949, variable = del_18O)\n",
    "del18_rad_2 = Radiobutton(window, text = '-9.5386',value = -9.5386, variable = del_18O)\n",
    "del18_rad_3 = Radiobutton(window, text = '-9.2154', value = -9.2154, variable = del_18O)\n",
    "\n",
    "btndel_18 = Button(window, text = \"Select Indicated Bulk Water \\u03B418-O Value\",command = clickeddeloxygen)\n",
    "\n",
    "label_del18.pack(pady = 10)\n",
    "del18_rad_1.pack()\n",
    "del18_rad_2.pack()\n",
    "del18_rad_3.pack()\n",
    "btndel_18.pack(pady = 10)\n",
    "\n",
    "label_alpha = Label(window, text = \"Please select a fractionation factor (\\u03B1) value for liquid-solid fractionation.\")\n",
    "rad1 = Radiobutton(window,text = '1.0028',value = 1.0028, variable = alpha)\n",
    "rad2 = Radiobutton(window,text = '1.0031',value = 1.0031, variable = alpha)\n",
    "btn_alpha = Button(window, text = \"Select Indicated \\u03B1\",command = clickedalpha)\n",
    "\n",
    "label_alpha.pack(pady = 10)\n",
    "rad1.pack()\n",
    "rad2.pack()\n",
    "btn_alpha.pack(pady = 10)\n",
    "\n",
    "label_close_win = Label(window, text = \"Please close this window. Your selections will be saved.\")\n",
    "label_close_win.pack(pady = 20)\n",
    "\n",
    "window.mainloop()\n",
    "\n"
   ]
  },
  {
   "cell_type": "code",
   "execution_count": null,
   "metadata": {},
   "outputs": [],
   "source": [
    "#bulk1_18 = -9.59485786666666\n",
    "#bulk2_18 = -9.53860\n",
    "#bulk3_18 = -9.21539\n",
    "\n",
    "#alphas = [1.0031,1.0028]\n",
    "\n",
    "boundary = 0.015\n",
    "freeze_r = 0.95\n",
    "diffusion_18 = 1.1*(10**-5)\n",
    "\n",
    "frac = np.arange(0.001,1.00,0.001)\n",
    "inverse_frac = frac[::-1]"
   ]
  },
  {
   "cell_type": "code",
   "execution_count": null,
   "metadata": {},
   "outputs": [],
   "source": [
    "sel_alpha = alpha.get()\n",
    "sel_bulk18 = del_18O.get()"
   ]
  },
  {
   "cell_type": "code",
   "execution_count": null,
   "metadata": {},
   "outputs": [],
   "source": [
    "del_i = np.zeros(len(frac))\n",
    "\n",
    "def plot_alpha(boundary,sel_alpha,sel_bulk18,freeze_r):\n",
    "    alpha_FR_input = sel_alpha / (sel_alpha - (sel_alpha - 1) * np.exp((-boundary * (freeze_r/60/60))/diffusion_18))\n",
    "    for i in range(len(frac)):\n",
    "        del_i[i] = sel_bulk18 + np.log(alpha_FR_input) * 1000 * np.log(inverse_frac[i]) + np.log(alpha_FR_input) * 1000\n",
    "    plt.plot(-inverse_frac, del_i)\n",
    "\n",
    "interact(plot_alpha,\n",
    "         boundary = widgets.FloatSlider(value = 0.02, \n",
    "                                        min=0.0001,\n",
    "                                        max=0.0250, \n",
    "                                        step = 0.0075),\n",
    "         sel_alpha = widgets.FloatSlider(value = 1.0029,\n",
    "                                        min = 1.0025,\n",
    "                                        max = 1.0035,\n",
    "                                        step = 0.00025),\n",
    "        sel_bulk18 = widgets.FloatSlider(value = -5.5,\n",
    "                                         min = -15.0,\n",
    "                                         max = - 4.0,\n",
    "                                         step = 1.0),\n",
    "        freeze_r = widgets.FloatSlider(value = 0.95,\n",
    "                                      min = 0.90,\n",
    "                                      max = 1.40,\n",
    "                                      step = 0.05))\n",
    "\n"
   ]
  }
 ],
 "metadata": {
  "kernelspec": {
   "display_name": "Python 3",
   "language": "python",
   "name": "python3"
  },
  "language_info": {
   "codemirror_mode": {
    "name": "ipython",
    "version": 3
   },
   "file_extension": ".py",
   "mimetype": "text/x-python",
   "name": "python",
   "nbconvert_exporter": "python",
   "pygments_lexer": "ipython3",
   "version": "3.6.4"
  }
 },
 "nbformat": 4,
 "nbformat_minor": 2
}
