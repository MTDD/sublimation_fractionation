{
 "cells": [
  {
   "cell_type": "markdown",
   "metadata": {},
   "source": [
    "# Introduction\n",
    "\n",
    "Thank you for checking out our simulator, intended to mimic our experiment through modelling. This jupyter notebook complements an existing journal article, available at :\n",
    "\n",
    "We will walk you through all the steps of our calculations. The \"# \" annotations in the code indicate what's happening line by line. Press \"ctrl + Enter\" to run each cell. Use the widgets to adjust the variables when available. It is important that you run the cells sequentially, as the code lower down requires input from the cells higher up.\n",
    "\n",
    "Best regards,\n",
    "\n",
    "D + S"
   ]
  },
  {
   "cell_type": "markdown",
   "metadata": {},
   "source": [
    "This first cell just sets up all the required packages. Run it and continue on."
   ]
  },
  {
   "cell_type": "code",
   "execution_count": 1,
   "metadata": {},
   "outputs": [],
   "source": [
    "from ipywidgets import interact, interactive, fixed, interact_manual, ToggleButtons\n",
    "import ipywidgets as widgets\n",
    "import numpy as np\n",
    "from IPython.display import display, Markdown\n",
    "import matplotlib.pyplot as plt"
   ]
  },
  {
   "cell_type": "markdown",
   "metadata": {},
   "source": [
    "### Welcome"
   ]
  },
  {
   "cell_type": "code",
   "execution_count": 4,
   "metadata": {},
   "outputs": [
    {
     "data": {
      "application/vnd.jupyter.widget-view+json": {
       "model_id": "43da7bee74f848b586d78a5ffd7c2eac",
       "version_major": 2,
       "version_minor": 0
      },
      "text/html": [
       "<p>Failed to display Jupyter Widget of type <code>Text</code>.</p>\n",
       "<p>\n",
       "  If you're reading this message in the Jupyter Notebook or JupyterLab Notebook, it may mean\n",
       "  that the widgets JavaScript is still loading. If this message persists, it\n",
       "  likely means that the widgets JavaScript library is either not installed or\n",
       "  not enabled. See the <a href=\"https://ipywidgets.readthedocs.io/en/stable/user_install.html\">Jupyter\n",
       "  Widgets Documentation</a> for setup instructions.\n",
       "</p>\n",
       "<p>\n",
       "  If you're reading this message in another frontend (for example, a static\n",
       "  rendering on GitHub or <a href=\"https://nbviewer.jupyter.org/\">NBViewer</a>),\n",
       "  it may mean that your frontend doesn't currently support widgets.\n",
       "</p>\n"
      ],
      "text/plain": [
       "Text(value='', placeholder='Type name here, then press <Enter>.')"
      ]
     },
     "metadata": {},
     "output_type": "display_data"
    },
    {
     "name": "stdout",
     "output_type": "stream",
     "text": [
      "Thank you Donovan and welcome to our sublimation simulator!\n"
     ]
    }
   ],
   "source": [
    "your_name = widgets.Text(\n",
    "            placeholder = \"Type name here, then press <Enter>.\")\n",
    "\n",
    "display(your_name)\n",
    "\n",
    "def name_yourself(sender):\n",
    "    print(\"Thank you\",your_name.value,\"and welcome to our sublimation simulator!\")\n",
    "\n",
    "your_name.on_submit(name_yourself)"
   ]
  },
  {
   "cell_type": "markdown",
   "metadata": {},
   "source": [
    "### Initial conditions selection\n",
    "\n",
    "Here you will decide the initial conditions for our static melt evolution plot. The values here are provided based on our own measurements and observations in the exisiting literature.\n",
    "\n",
    "You will be able to explore the effects of changing these values later on, but for now please select an initial value for $\\delta^{18}$O and the fractionation factor ($\\alpha$)."
   ]
  },
  {
   "cell_type": "code",
   "execution_count": 5,
   "metadata": {
    "scrolled": true
   },
   "outputs": [
    {
     "data": {
      "application/vnd.jupyter.widget-view+json": {
       "model_id": "ed164d267bb146288b69f0ebd926da18",
       "version_major": 2,
       "version_minor": 0
      },
      "text/html": [
       "<p>Failed to display Jupyter Widget of type <code>Dropdown</code>.</p>\n",
       "<p>\n",
       "  If you're reading this message in the Jupyter Notebook or JupyterLab Notebook, it may mean\n",
       "  that the widgets JavaScript is still loading. If this message persists, it\n",
       "  likely means that the widgets JavaScript library is either not installed or\n",
       "  not enabled. See the <a href=\"https://ipywidgets.readthedocs.io/en/stable/user_install.html\">Jupyter\n",
       "  Widgets Documentation</a> for setup instructions.\n",
       "</p>\n",
       "<p>\n",
       "  If you're reading this message in another frontend (for example, a static\n",
       "  rendering on GitHub or <a href=\"https://nbviewer.jupyter.org/\">NBViewer</a>),\n",
       "  it may mean that your frontend doesn't currently support widgets.\n",
       "</p>\n"
      ],
      "text/plain": [
       "Dropdown(description='Bulk δ18-O:', options={'-9.2154': -9.21534, '-9.5386': -9.5386, '-9.5949': -9.5949}, value=-9.21534)"
      ]
     },
     "metadata": {},
     "output_type": "display_data"
    },
    {
     "data": {
      "application/vnd.jupyter.widget-view+json": {
       "model_id": "cb6f3c6e57554b619a21b2cec016b76f",
       "version_major": 2,
       "version_minor": 0
      },
      "text/html": [
       "<p>Failed to display Jupyter Widget of type <code>Dropdown</code>.</p>\n",
       "<p>\n",
       "  If you're reading this message in the Jupyter Notebook or JupyterLab Notebook, it may mean\n",
       "  that the widgets JavaScript is still loading. If this message persists, it\n",
       "  likely means that the widgets JavaScript library is either not installed or\n",
       "  not enabled. See the <a href=\"https://ipywidgets.readthedocs.io/en/stable/user_install.html\">Jupyter\n",
       "  Widgets Documentation</a> for setup instructions.\n",
       "</p>\n",
       "<p>\n",
       "  If you're reading this message in another frontend (for example, a static\n",
       "  rendering on GitHub or <a href=\"https://nbviewer.jupyter.org/\">NBViewer</a>),\n",
       "  it may mean that your frontend doesn't currently support widgets.\n",
       "</p>\n"
      ],
      "text/plain": [
       "Dropdown(description='α-value', options={'1.0028': 1.0028, '1.0031': 1.0031}, value=1.0028)"
      ]
     },
     "metadata": {},
     "output_type": "display_data"
    },
    {
     "name": "stdout",
     "output_type": "stream",
     "text": [
      "Nicely done, Donovan ! You have successfully just run your first code cell.\n"
     ]
    }
   ],
   "source": [
    "# Create a dropdown menu with our measured values for the del18O of the liquid water prior to freezing\n",
    "\n",
    "dropdown_del18 = widgets.Dropdown(\n",
    "                        options={ '-9.2154': -9.21534, '-9.5386': -9.5386,'-9.5949': -9.5949},\n",
    "                        description='Bulk \\u03B418-O:')\n",
    "\n",
    "# Create a dropdown menu with fractionation factors for liquid-solid phase change (O'Neil, 1968 & Suzuoki and Kumura, 1973)\n",
    "dropdown_alpha = widgets.Dropdown(\n",
    "                        options = { '1.0028': 1.0028, '1.0031': 1.0031},\n",
    "                        description = '\\u03B1-value')\n",
    "\n",
    "display(dropdown_del18,dropdown_alpha)\n",
    "\n",
    "print(\"Nicely done,\",your_name.value,\"! You have successfully just run your first code cell.\")"
   ]
  },
  {
   "cell_type": "code",
   "execution_count": null,
   "metadata": {},
   "outputs": [],
   "source": [
    "boundary = 0.015\n",
    "freeze_r = 0.95\n",
    "diffusion_18 = 1.1*(10**-5)\n",
    "\n",
    "frac = np.arange(0.001,1.00,0.001)\n",
    "inverse_frac = frac[::-1]"
   ]
  },
  {
   "cell_type": "code",
   "execution_count": null,
   "metadata": {},
   "outputs": [],
   "source": [
    "del_i = np.zeros(len(frac))\n",
    "input_alpha = dropdown_alpha.value\n",
    "input_bulk18 = dropdown_del18.value\n",
    "\n",
    "def plot_alpha():\n",
    "    alpha_FR_input = sel_alpha / (sel_alpha - (sel_alpha - 1) * np.exp((-boundary * (freeze_r/60/60))/diffusion_18))\n",
    "    for i in range(len(frac)):\n",
    "        del_i[i] = sel_bulk18 + np.log(alpha_FR_input) * 1000 * np.log(inverse_frac[i]) + np.log(alpha_FR_input) * 1000\n",
    "    plt.plot(-inverse_frac, del_i)\n",
    "\n",
    "display(plot_alpha())\n",
    "\n"
   ]
  },
  {
   "cell_type": "code",
   "execution_count": null,
   "metadata": {},
   "outputs": [],
   "source": [
    "del_i = np.zeros(len(frac))\n",
    "\n",
    "def plot_alpha(boundary,sel_alpha,sel_bulk18,freeze_r):\n",
    "    alpha_FR_input = sel_alpha / (sel_alpha - (sel_alpha - 1) * np.exp((-boundary * (freeze_r/60/60))/diffusion_18))\n",
    "    for i in range(len(frac)):\n",
    "        del_i[i] = sel_bulk18 + np.log(alpha_FR_input) * 1000 * np.log(inverse_frac[i]) + np.log(alpha_FR_input) * 1000\n",
    "    print(\"Boundary Layer Thickness:\", boundary,\"cm\",'\\n','\\n',\n",
    "          \"Fractionation Factor (\\u03B1):\", sel_alpha,'\\n','\\n'\n",
    "          \"Bulk Water \\u03B418-O Value:\", sel_bulk18,\"\\u2030\",'\\n','\\n',\n",
    "          \"Freezing Rate:\", freeze_r,\"cm * sec^-1\",'\\n')\n",
    "    return plt.plot(-inverse_frac, del_i)\n",
    "\n",
    "interact(plot_alpha,\n",
    "         boundary = widgets.FloatSlider(value = boundary, \n",
    "                                        min=0.0001,\n",
    "                                        max=0.0250, \n",
    "                                        step = 0.0005,\n",
    "                                        description = \"Boundary Layer\"),\n",
    "         sel_alpha = widgets.FloatSlider(value = input_alpha,\n",
    "                                        min = 1.0025,\n",
    "                                        max = 1.0035,\n",
    "                                        step = 0.0001,\n",
    "                                        description = \"Alpha Value\"),\n",
    "        sel_bulk18 = widgets.FloatSlider(value = input_bulk18,\n",
    "                                         min = -15.0,\n",
    "                                         max = - 4.0,\n",
    "                                         step = 1.0,\n",
    "                                         description = \"Bulk \\u03B418-O\"),\n",
    "        freeze_r = widgets.FloatSlider(value = freeze_r,\n",
    "                                      min = 0.90,\n",
    "                                      max = 1.40,\n",
    "                                      step = 0.05,\n",
    "                                      description = \"Freezing Rate\"))\n"
   ]
  }
 ],
 "metadata": {
  "kernelspec": {
   "display_name": "Python 3",
   "language": "python",
   "name": "python3"
  },
  "language_info": {
   "codemirror_mode": {
    "name": "ipython",
    "version": 3
   },
   "file_extension": ".py",
   "mimetype": "text/x-python",
   "name": "python",
   "nbconvert_exporter": "python",
   "pygments_lexer": "ipython3",
   "version": "3.6.4"
  }
 },
 "nbformat": 4,
 "nbformat_minor": 2
}
